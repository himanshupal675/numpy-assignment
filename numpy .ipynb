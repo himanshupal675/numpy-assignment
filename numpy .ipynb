{
 "cells": [
  {
   "cell_type": "code",
   "execution_count": 2,
   "id": "2b963d5f-4336-4aa7-9820-8247ed233093",
   "metadata": {},
   "outputs": [],
   "source": [
    "import numpy as np\n",
    "list=['1','2','3','4','5']\n",
    "array=np.array(list)"
   ]
  },
  {
   "cell_type": "markdown",
   "id": "15732e73-8599-4f92-803c-4a475b488222",
   "metadata": {},
   "source": [
    "## Q1. Is there any difference in the data type of variables list_ and array_list? If there is then write a code to print the data types of both the variables."
   ]
  },
  {
   "cell_type": "markdown",
   "id": "bba88e13-92c2-4f0d-83f1-151ae11623df",
   "metadata": {},
   "source": [
    "In Python, both `list` and `array` (from the `array` module) are used to store collections of items. However, there are differences between them, including their data types and functionality.\n",
    "\n",
    "1. **List:**\n",
    "   - A `list` is a built-in Python data type that can hold items of different data types.\n",
    "   - Lists are dynamic and can be resized.\n",
    "   - They are more versatile and can store any data type, including mixed data types.\n",
    "   - Lists are defined using square brackets `[ ]`.\n",
    "\n",
    "2. **Array (from the `array` module):**\n",
    "   - An `array` is a data structure provided by the `array` module in Python's standard library.\n",
    "   - Arrays are more memory-efficient as they store items of the same data type.\n",
    "   - They are less versatile compared to lists, as they can only store items of a single data type.\n",
    "   - Arrays are defined using the `array.array()` constructor.\n",
    "\n",
    "Here's a comparison of their data types:\n",
    "\n",
    "```python\n",
    "import array\n",
    "\n",
    "list_ = [1, 2, 3, 4, 5]\n",
    "array_list = array.array('i', [1, 2, 3, 4, 5])\n",
    "```\n",
    "\n",
    "In this example, `list_` is a Python list containing integers, while `array_list` is an array containing integers (`'i'` is the type code for signed integers). While they both can hold similar types of data, `array_list` is more memory-efficient due to its stricter data type constraint.\n",
    "\n",
    "In general, if you need more flexibility and want to store different data types, you would use a Python `list`. If memory efficiency and homogeneity of data types are more important, you might consider using arrays from the `array` module or other specialized array libraries like NumPy."
   ]
  },
  {
   "cell_type": "markdown",
   "id": "a92ff324-5135-488f-89dd-2d81ccb3dfa2",
   "metadata": {},
   "source": [
    "## Q2. Write a code to print the data type of each and every element of both the variables list_ and array_list."
   ]
  },
  {
   "cell_type": "code",
   "execution_count": 4,
   "id": "f9479a7b-a658-4d5a-ad1c-a8435fad5d4a",
   "metadata": {},
   "outputs": [
    {
     "name": "stdout",
     "output_type": "stream",
     "text": [
      "Data types in list_:\n",
      "<class 'int'>\n",
      "<class 'int'>\n",
      "<class 'int'>\n",
      "<class 'int'>\n",
      "<class 'int'>\n",
      "\n",
      "Data types in array_list:\n",
      "<class 'int'>\n",
      "<class 'int'>\n",
      "<class 'int'>\n",
      "<class 'int'>\n",
      "<class 'int'>\n"
     ]
    }
   ],
   "source": [
    "import array\n",
    "\n",
    "list_ = [1, 2, 3, 4, 5]\n",
    "array_list = array.array('i', [1, 2, 3, 4, 5])\n",
    "\n",
    "# Print data types of elements in list_\n",
    "print(\"Data types in list_:\")\n",
    "for item in list_:\n",
    "    print(type(item))\n",
    "\n",
    "# Print data types of elements in array_list\n",
    "print(\"\\nData types in array_list:\")\n",
    "for item in array_list:\n",
    "    print(type(item))\n"
   ]
  },
  {
   "cell_type": "markdown",
   "id": "fcada656-5dd5-4fb9-a045-0b832fa956a7",
   "metadata": {},
   "source": [
    "## Q3. Considering the following changes in the variable, array_list:"
   ]
  },
  {
   "cell_type": "markdown",
   "id": "b7cc3c53-2030-4259-b943-d36d504eed2f",
   "metadata": {},
   "source": [
    "Yes, there will be a difference in the data type of the elements between the `list_` variable and the `array_list` variable after performing the operation `array_list = np.array(object = list_, dtype = int)`. The elements in the `array_list` will be of the `int` data type, whereas the elements in the original `list_` variable will remain unchanged.\n",
    "\n",
    "Let's print the data types of each element in both `list_` and `array_list`:\n",
    "\n",
    "```python\n",
    "import numpy as np\n",
    "\n",
    "list_ = [1, 2, 3, 4, 5]\n",
    "array_list = np.array(object=list_, dtype=int)\n",
    "\n",
    " Print data types of elements in list_\n",
    "print(\"Data types in list_:\")\n",
    "for item in list_:\n",
    "    print(type(item))\n",
    "\n",
    " Print data types of elements in array_list\n",
    "print(\"\\nData types in array_list:\")\n",
    "for item in array_list:\n",
    "    print(type(item))\n",
    "\n",
    "\n",
    "In the output, you can see that the elements in `array_list` have a data type of `numpy.int32`, which is a specific data type provided by NumPy, while the elements in the original `list_` variable remain integers. This is because we specified the `dtype=int` parameter when creating the NumPy array."
   ]
  },
  {
   "cell_type": "markdown",
   "id": "8e80dff8-d01a-4983-889c-9057cd26f403",
   "metadata": {},
   "source": [
    "## Q4. Write a code to find the following characteristics of variable, num_array:\n",
    "(i) shape\n",
    "(ii) size"
   ]
  },
  {
   "cell_type": "code",
   "execution_count": 5,
   "id": "a3e6e77b-89d8-4101-b35a-c25691c84971",
   "metadata": {},
   "outputs": [
    {
     "name": "stdout",
     "output_type": "stream",
     "text": [
      "Shape of num_array: (2, 3)\n",
      "Size of num_array: 6\n"
     ]
    }
   ],
   "source": [
    "import numpy as np\n",
    "\n",
    "num_list = [[1, 2, 3], [4, 5, 6]]\n",
    "num_array = np.array(object=num_list)\n",
    "\n",
    "# (i) Find the shape of num_array\n",
    "shape = num_array.shape\n",
    "\n",
    "# (ii) Find the size of num_array\n",
    "size = num_array.size\n",
    "\n",
    "print(\"Shape of num_array:\", shape)\n",
    "print(\"Size of num_array:\", size)\n"
   ]
  },
  {
   "cell_type": "markdown",
   "id": "127a0f2a-06b0-4a51-84cf-0714037c1adc",
   "metadata": {},
   "source": [
    "## Q5. Write a code to create numpy array of 3*3 matrix containing zeros only, using a numpy array creation function.\n"
   ]
  },
  {
   "cell_type": "code",
   "execution_count": 6,
   "id": "41b08ed6-fbd3-443d-8590-5b8d00d61f62",
   "metadata": {},
   "outputs": [
    {
     "name": "stdout",
     "output_type": "stream",
     "text": [
      "[[0. 0. 0.]\n",
      " [0. 0. 0.]\n",
      " [0. 0. 0.]]\n"
     ]
    }
   ],
   "source": [
    "import numpy as np\n",
    "\n",
    "# Create a 3x3 matrix of zeros\n",
    "zero_matrix = np.zeros((3, 3))\n",
    "\n",
    "print(zero_matrix)\n"
   ]
  },
  {
   "cell_type": "markdown",
   "id": "6fea0217-c0f6-484e-bedb-27e2c484cdf6",
   "metadata": {},
   "source": [
    "## Q6. Create an identity matrix of shape (5,5) using numpy functions?"
   ]
  },
  {
   "cell_type": "code",
   "execution_count": 9,
   "id": "047340ef-bc6f-43d3-86c8-99a8e82d7a6d",
   "metadata": {},
   "outputs": [
    {
     "name": "stdout",
     "output_type": "stream",
     "text": [
      "[[1. 0. 0. 0. 0.]\n",
      " [0. 1. 0. 0. 0.]\n",
      " [0. 0. 1. 0. 0.]\n",
      " [0. 0. 0. 1. 0.]\n",
      " [0. 0. 0. 0. 1.]]\n"
     ]
    }
   ],
   "source": [
    "import numpy as np\n",
    "idendity_matrix = np.eye(5)\n",
    "print(idendity_matrix)"
   ]
  },
  {
   "cell_type": "code",
   "execution_count": null,
   "id": "0f5ef0ea-3b11-4b2f-8385-36470214e338",
   "metadata": {},
   "outputs": [],
   "source": []
  }
 ],
 "metadata": {
  "kernelspec": {
   "display_name": "Python 3 (ipykernel)",
   "language": "python",
   "name": "python3"
  },
  "language_info": {
   "codemirror_mode": {
    "name": "ipython",
    "version": 3
   },
   "file_extension": ".py",
   "mimetype": "text/x-python",
   "name": "python",
   "nbconvert_exporter": "python",
   "pygments_lexer": "ipython3",
   "version": "3.10.8"
  }
 },
 "nbformat": 4,
 "nbformat_minor": 5
}
